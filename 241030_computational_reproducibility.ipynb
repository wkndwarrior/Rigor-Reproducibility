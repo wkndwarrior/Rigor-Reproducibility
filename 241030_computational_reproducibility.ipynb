{
  "nbformat": 4,
  "nbformat_minor": 0,
  "metadata": {
    "colab": {
      "provenance": []
    },
    "kernelspec": {
      "name": "python3",
      "display_name": "Python 3"
    },
    "language_info": {
      "name": "python"
    }
  },
  "cells": [
    {
      "cell_type": "code",
      "execution_count": null,
      "metadata": {
        "colab": {
          "base_uri": "https://localhost:8080/"
        },
        "id": "pbsCboVAynFh",
        "outputId": "d11c4ec6-0111-4912-947c-c0f3ba2ead44"
      },
      "outputs": [
        {
          "output_type": "stream",
          "name": "stdout",
          "text": [
            "2024-10-30\n"
          ]
        }
      ],
      "source": [
        "# prompt: print today's date\n",
        "\n",
        "import datetime\n",
        "\n",
        "print(datetime.date.today())\n"
      ]
    },
    {
      "cell_type": "code",
      "source": [
        "2*5"
      ],
      "metadata": {
        "colab": {
          "base_uri": "https://localhost:8080/"
        },
        "id": "8N2G0mwAy5Wr",
        "outputId": "76682754-8488-498f-b1a1-cfbb0ba459fc"
      },
      "execution_count": null,
      "outputs": [
        {
          "output_type": "execute_result",
          "data": {
            "text/plain": [
              "10"
            ]
          },
          "metadata": {},
          "execution_count": 3
        }
      ]
    },
    {
      "cell_type": "markdown",
      "source": [
        "In life sciences research, computational reproducibility—ensuring that others can recreate analyses or experiments—is crucial for scientific validation and often one of the easiest elements of life sciences research to reproduce. Using code repositories like GitHub is integral to achieving this goal, allowing  researchers to publish, track, and maintain computational code in a centralized location. By uploading code to a common platform like GitHub, researchers ensure their work is accessible globally, which encourages collaboration and increases transparency.\n",
        "\n",
        "GitHub also provides tools for version control to track changes to code over time, allowing researchers to view a detailed history of modifications, including who made changes, what changes were made, and when. This traceability helps the scientific community understand the evolution of computational workflows, offering insights into potential sources of error or the rationale behind modifications. It also prevents version conflicts by enabling researchers to work on different parts of the codebase simultaneously without overwriting each other’s work.\n",
        "\n",
        "Publishing code in a public repository with clear documentation also facilitates data access and usage, allowing researchers to reproduce experiments and analyze datasets accurately. By maintaining standardized formats and using clear, descriptive file structures, GitHub enhances the ease of data access, enabling collaborators to implement or modify code more efficiently.\n",
        "\n"
      ],
      "metadata": {
        "id": "vi1RjeJhzxvu"
      }
    }
  ]
}